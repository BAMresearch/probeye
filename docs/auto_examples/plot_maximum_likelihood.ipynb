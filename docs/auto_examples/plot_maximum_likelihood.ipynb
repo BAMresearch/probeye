{
  "cells": [
    {
      "cell_type": "code",
      "execution_count": null,
      "metadata": {
        "collapsed": false
      },
      "outputs": [],
      "source": [
        "%matplotlib inline"
      ]
    },
    {
      "cell_type": "markdown",
      "metadata": {},
      "source": [
        "\n# Simple linear regression (maximum likelihood)\n\nA simple linear regression example with two model parameters and one noise parameter.\n\nThe model equation is y = a * x + b with a, b being the model parameters and the\nnoise model is a normal zero-mean distribution with the std. deviation to infer.\nThe problem is solved via maximum likelihood estimation.\n"
      ]
    },
    {
      "cell_type": "markdown",
      "metadata": {},
      "source": [
        "Import what we will need for this example.\n\n"
      ]
    },
    {
      "cell_type": "code",
      "execution_count": null,
      "metadata": {
        "collapsed": false
      },
      "outputs": [],
      "source": [
        "# third party imports\nimport numpy as np\nimport matplotlib.pyplot as plt\n\n# local imports (problem definition)\nfrom probeye.definition.inference_problem import InferenceProblem\nfrom probeye.definition.forward_model import ForwardModelBase\nfrom probeye.definition.sensor import Sensor\nfrom probeye.definition.likelihood_model import GaussianLikelihoodModel\n\n# local imports (inference related)\nfrom probeye.inference.scipy_.solver import ScipySolver"
      ]
    },
    {
      "cell_type": "markdown",
      "metadata": {},
      "source": [
        "We start by generating a synthetic data set from a known linear model. Later we\nwill pretend to forgot about the parameters of this ground truth model and will try\nto recover them from the data. The slope and intercept of the ground truth model:\n\n"
      ]
    },
    {
      "cell_type": "code",
      "execution_count": null,
      "metadata": {
        "collapsed": false
      },
      "outputs": [],
      "source": [
        "a_true = 2.5\nb_true = 1.7"
      ]
    },
    {
      "cell_type": "markdown",
      "metadata": {},
      "source": [
        "Generate a few data points that we contaminate with a Gaussian error:\n\n"
      ]
    },
    {
      "cell_type": "code",
      "execution_count": null,
      "metadata": {
        "collapsed": false
      },
      "outputs": [],
      "source": [
        "n_tests = 50\nseed = 1\n\nnp.random.seed(seed)\nx_test = np.linspace(0.0, 1.0, n_tests)\ny_true = a_true * x_test + b_true\nsigma_noise = 0.5\ny_test = y_true + np.random.normal(loc=0, scale=sigma_noise, size=n_tests)"
      ]
    },
    {
      "cell_type": "markdown",
      "metadata": {},
      "source": [
        "Visualize our data points\n\n"
      ]
    },
    {
      "cell_type": "code",
      "execution_count": null,
      "metadata": {
        "collapsed": false
      },
      "outputs": [],
      "source": [
        "plt.plot(x_test, y_test, \"o\")\nplt.xlabel(\"x\")\nplt.ylabel(\"y\")\nplt.show()"
      ]
    },
    {
      "cell_type": "markdown",
      "metadata": {},
      "source": [
        "Define our parametrized linear model:\n\n"
      ]
    },
    {
      "cell_type": "code",
      "execution_count": null,
      "metadata": {
        "collapsed": false
      },
      "outputs": [],
      "source": [
        "class LinearModel(ForwardModelBase):\n    def response(self, inp):\n        # this method *must* be provided by the user\n        x = inp[\"x\"]\n        m = inp[\"m\"]\n        b = inp[\"b\"]\n        response = {}\n        for os in self.output_sensors:\n            response[os.name] = m * x + b\n        return response"
      ]
    },
    {
      "cell_type": "markdown",
      "metadata": {},
      "source": [
        "Define the inference problem.\nInitialize the inference problem with a useful name; note that the\nname will only be stored as an attribute of the InferenceProblem and\nis not important for the problem itself; can be useful when dealing\nwith multiple problems\n\n"
      ]
    },
    {
      "cell_type": "code",
      "execution_count": null,
      "metadata": {
        "collapsed": false
      },
      "outputs": [],
      "source": [
        "problem = InferenceProblem(\"Linear regression with normal noise\")"
      ]
    },
    {
      "cell_type": "markdown",
      "metadata": {},
      "source": [
        "Add all parameters to the problem; the first argument states the\nparameter's global name (here: 'a', 'b' and 'sigma'); the second\nargument defines the parameter type (three options: 'model' for\nparameter's of the forward model, 'prior' for prior parameters and\n'noise' for parameters of the noise model); the 'info'-argument is a\nshort description string used for logging, and the tex-argument gives\na tex-string of the parameter used for plotting; finally, the prior-\nargument specifies the parameter's prior; note that this definition\nof a prior will result in the initialization of constant parameters of\ntype 'prior' in the background\n\n"
      ]
    },
    {
      "cell_type": "code",
      "execution_count": null,
      "metadata": {
        "collapsed": false
      },
      "outputs": [],
      "source": [
        "problem.add_parameter(\"a\", \"model\", tex=\"$a$\")\nproblem.add_parameter(\"b\", \"model\", tex=\"$b$\")\nproblem.add_parameter(\"sigma\", \"likelihood\", tex=r\"$\\sigma$\")"
      ]
    },
    {
      "cell_type": "markdown",
      "metadata": {},
      "source": [
        "Add the forward model to the problem; note that the first positional\nargument [{'a': 'm'}, 'b'] passed to LinearModel defines the forward\nmodel's parameters by name via a list with elements structured like\n{<global parameter name>: <local parameter name>}; a global name is a\nname introduced by problem.add_parameter, while a local name is a name\nused in the response-method of the forward model class (see the class\nLinearModel above); note that the use of the local parameter name 'm'\nfor the global parameter 'a' is added here only to highlight the\npossibility of this feature; it is not necessary at all here; whenever\nforward model's parameter has a similar local and global name (which\nshould be the case most of the times), one doesn't have to use the\nverbose notation  {<global parameter name>: <local parameter name>}\nbut can instead just write the parameter's (global=local) name, like\nit is done with the forward model's parameter 'b' below\n\n"
      ]
    },
    {
      "cell_type": "code",
      "execution_count": null,
      "metadata": {
        "collapsed": false
      },
      "outputs": [],
      "source": [
        "isensor = Sensor(\"x\")\nosensor = Sensor(\"y\")\nlinear_model = LinearModel([{\"a\": \"m\"}, \"b\"], [isensor], [osensor])\nproblem.add_forward_model(\"LinearModel\", linear_model)"
      ]
    },
    {
      "cell_type": "markdown",
      "metadata": {},
      "source": [
        "Add test data to the Inference Problem\n\n"
      ]
    },
    {
      "cell_type": "code",
      "execution_count": null,
      "metadata": {
        "collapsed": false
      },
      "outputs": [],
      "source": [
        "problem.add_experiment(\n    \"TestSeries_1\",\n    fwd_model_name=\"LinearModel\",\n    sensor_values={isensor.name: x_test, osensor.name: y_test},\n)"
      ]
    },
    {
      "cell_type": "markdown",
      "metadata": {},
      "source": [
        "add the likelihood model to the problem\n\n"
      ]
    },
    {
      "cell_type": "code",
      "execution_count": null,
      "metadata": {
        "collapsed": false
      },
      "outputs": [],
      "source": [
        "problem.add_likelihood_model(\n    GaussianLikelihoodModel(prms_def={\"sigma\": \"std_model\"}, sensors=osensor)\n)\n\n# give problem overview\nproblem.info()"
      ]
    },
    {
      "cell_type": "markdown",
      "metadata": {},
      "source": [
        "Estimate the parameters using `Scipy`\n\n"
      ]
    },
    {
      "cell_type": "code",
      "execution_count": null,
      "metadata": {
        "collapsed": false
      },
      "outputs": [],
      "source": [
        "scipy_solver = ScipySolver(problem, show_progress=True)\ninference_data = scipy_solver.run_max_likelihood()"
      ]
    }
  ],
  "metadata": {
    "kernelspec": {
      "display_name": "Python 3",
      "language": "python",
      "name": "python3"
    },
    "language_info": {
      "codemirror_mode": {
        "name": "ipython",
        "version": 3
      },
      "file_extension": ".py",
      "mimetype": "text/x-python",
      "name": "python",
      "nbconvert_exporter": "python",
      "pygments_lexer": "ipython3",
      "version": "3.9.5"
    }
  },
  "nbformat": 4,
  "nbformat_minor": 0
}